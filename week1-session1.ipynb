{
 "cells": [
  {
   "cell_type": "markdown",
   "metadata": {},
   "source": [
    "# Week1授業課題1 曽呂利新左衛門問題"
   ]
  },
  {
   "cell_type": "code",
   "execution_count": 6,
   "metadata": {},
   "outputs": [],
   "source": [
    "import matplotlib.pyplot as plt\n",
    "%matplotlib inline"
   ]
  },
  {
   "cell_type": "markdown",
   "metadata": {},
   "source": [
    "## 【問題1】100日後の米粒の数\n",
    "100日後には合計で米粒をいくつもらっているのかを計算するコードを作成し、答えを出力してください。また、1日目から100日目までの「その日にもらう米の数」と「その日までに累計で貰う米の数」の推移を折れ線グラフで表現してください。（縦軸が米の数、横軸が日数）"
   ]
  },
  {
   "cell_type": "code",
   "execution_count": 22,
   "metadata": {},
   "outputs": [
    {
     "name": "stdout",
     "output_type": "stream",
     "text": [
      "100日後にもらえる米粒の数は約1.3e+30粒\n"
     ]
    },
    {
     "data": {
      "image/png": "[encoded data removed]",
      "text/plain": [
       "<Figure size 432x288 with 2 Axes>"
      ]
     },
     "metadata": {
      "needs_background": "light"
     },
     "output_type": "display_data"
    }
   ],
   "source": [
    "numbers_list = []\n",
    "total_list = []\n",
    "add = 0\n",
    "for i in range(100):\n",
    "    result = 2 ** i\n",
    "    add += result\n",
    "    total_list.append(add)\n",
    "    numbers_list.append(result)\n",
    "print(\"100日後にもらえる米粒の数は約{:.2g}粒\".format(total_list[-1]))\n",
    "\n",
    "\n",
    "fig = plt.figure()\n",
    "\n",
    "ax1 = fig.add_subplot(1, 2, 1)\n",
    "ax1.set_title(\"amount of kome\")\n",
    "ax1.set_xlabel(\"days\")\n",
    "ax1.set_ylabel(\"kome\")\n",
    "ax1.plot(numbers_list, linewidth=2)\n",
    "\n",
    "ax2 = fig.add_subplot(1, 2, 2)\n",
    "ax2.set_title(\"total of kome\")\n",
    "ax2.set_xlabel(\"days\")\n",
    "ax2.set_ylabel(\"kome\")\n",
    "ax2.plot(total_list, linewidth=2)\n",
    "\n",
    "plt.tight_layout()\n",
    "plt.show()"
   ]
  },
  {
   "cell_type": "markdown",
   "metadata": {},
   "source": [
    "## 【問題2】100日後以外の米粒の数\n",
    "この逸話は30日だったり81日だったりと日数が曖昧です。どの話にも対応できるように日数を引数とした 関数 を作成しましょう。関数を作成した上で、コースを受講する日数の間でいくつ米粒をもらえるかを答えてください。前の問題同様に折れ線グラフも出力してください。\n",
    "\n",
    "以下の雛形には関数としての枠組みだけではなく、引数や返り値についてのコメントも記載してあります。参考にして、自分なりにも分かりやすくコメントを書き換えてください。"
   ]
  },
  {
   "cell_type": "code",
   "execution_count": 23,
   "metadata": {},
   "outputs": [],
   "source": [
    "#関数の作成\n",
    "def compute_sorori_shinzaemon(day=100):\n",
    "    \"\"\"曽呂利新左衛門がもらえるコメ粒の量を算出する関数\n",
    "\n",
    "    list_n_grains     : list      ある日に貰う米の数のリスト（リストの長さはdayに等しくなる）\n",
    "    list_total_grains : list      ある日までに貰う米の数のリスト（リストの長さはdayに等しくなる）\n",
    "    -----------------\n",
    "    引数dayを受け取る\n",
    "    その日に貰う米を算出\n",
    "    その日までに貰っている米を算出\n",
    "    それぞれリストに追加\n",
    "    return　リスト\n",
    "    ----------------\n",
    "    \"\"\"\n",
    "    list_n_grains = []\n",
    "    list_total_grains = []\n",
    "    a = 0\n",
    "    for i in range(day):\n",
    "        result = 2 ** i\n",
    "        a += result\n",
    "        list_n_grains.append(result)\n",
    "        list_total_grains.append(a)\n",
    "    return list_n_grains, list_total_grains"
   ]
  },
  {
   "cell_type": "code",
   "execution_count": 28,
   "metadata": {},
   "outputs": [
    {
     "name": "stdout",
     "output_type": "stream",
     "text": [
      "DIC機械学習コースを受講する上でもらえる米の数は約1.32923e+36粒\n"
     ]
    },
    {
     "data": {
      "image/png": "[encoded data removed]",
      "text/plain": [
       "<Figure size 432x288 with 2 Axes>"
      ]
     },
     "metadata": {
      "needs_background": "light"
     },
     "output_type": "display_data"
    }
   ],
   "source": [
    "#DIC　機械学習コースを受講する上でもらえる米の数を算出\n",
    "grans_DIC_n, grans_DIC_total = compute_sorori_shinzaemon(120)\n",
    "print(\"DIC機械学習コースを受講する上でもらえる米の数は約{:2g}粒\".format(grans_DIC_total[-1]))\n",
    "\n",
    "fig = plt.figure()\n",
    "\n",
    "ax1 = fig.add_subplot(1, 2, 1)\n",
    "ax1.set_title(\"amount of kome\")\n",
    "ax1.set_xlabel(\"days\")\n",
    "ax1.set_ylabel(\"kome\")\n",
    "ax1.plot(grans_DIC_n, linewidth=2)\n",
    "\n",
    "ax2 = fig.add_subplot(1, 2, 2)\n",
    "ax2.set_title(\"total of kome\")\n",
    "ax2.set_xlabel(\"days\")\n",
    "ax2.set_ylabel(\"kome\")\n",
    "ax2.plot(grans_DIC_total, linewidth=2)\n",
    "\n",
    "plt.tight_layout()\n",
    "plt.show()"
   ]
  },
  {
   "cell_type": "markdown",
   "metadata": {},
   "source": [
    "## 【問題3】何人が何日生活できる米か\n",
    "この米があれば何人が何日生活できるか計算する関数を作成してください。コースを受講する期間に貰える米粒で、このクラスにいる人数であれば、何日間生活できるかを出力してみましょう。\n",
    "\n",
    "関数の最低限の入力は 米粒の数(int) と 人数(int) 、出力は 生活できる日数(int) です。関数名やコメントなどは分かりやすく考えて作成してください。\n",
    "\n",
    "ここでは1日に必要な米粒の数は提示しません。自分なりに調べて、計算式に落とし込んでください。どう調べ、何を根拠にしたかもコメントを残しておいてください。"
   ]
  },
  {
   "cell_type": "code",
   "execution_count": 34,
   "metadata": {},
   "outputs": [],
   "source": [
    "\"\"\"DIC機械学習コースを受講する期間でもらえる米の数で、何人が何日生活できるか計算する関数を作成\n",
    "定数\n",
    "　　DIC機械学習コースを受講する上でもらえる米の数\n",
    "定義\n",
    "　　人が一日に必要な米の量を２合と定義\n",
    "----------------------------------------------------------------------------------------------\n",
    "貰える米粒を合単位に変換する関数を作成（引数：米の数）\n",
    "　　　　米の数 * 0.0225 ：米のグラム数を算出\n",
    "    　　米のグラム　/ 150  :米をグラムから合に変換\n",
    "　　　　return 米の量（合）\n",
    "    \n",
    "生活できる関数を作成（引数：貰える米の数（合）、生活する人数、人間が一日に必要な米の量（合））\n",
    "　　　　貰える米の数（合）/ 生活する人数　*　人間が一日に必要な米の量（合）\n",
    "        return  生活できる日数\n",
    "------------------------------------------------------------------------------------------------\n",
    "\"\"\"\n",
    "\n",
    "GET_KOME = grans_DIC_total[-1] # DIC機械学習コースを受講する上でもらえる米の数\n",
    "NEED_KOME = 2\n",
    "DIC_PEOPLE = 14\n",
    "def replace_gou(kome):\n",
    "    kome_g = kome * 0.0225\n",
    "    kome_gou = kome_g / 150\n",
    "    return kome_gou\n",
    "\n",
    "\n",
    "def live_day(grains, people, need_kome):\n",
    "    grans_gou = replace_gou(grains)\n",
    "    return grans_gou / (people*need_kome)\n",
    "    \n",
    "    "
   ]
  },
  {
   "cell_type": "code",
   "execution_count": 38,
   "metadata": {},
   "outputs": [
    {
     "name": "stdout",
     "output_type": "stream",
     "text": [
      "コースを受講する期間に貰える米粒で、このクラスにいる人数であれば約7.1e+30日間生活できる\n"
     ]
    }
   ],
   "source": [
    "live_day_DIC = live_day(GET_KOME, DIC_PEOPLE, NEED_KOME)\n",
    "print(\"コースを受講する期間に貰える米粒で、このクラスにいる人数であれば約{:.2g}日間生活できる\".format(live_day_DIC))"
   ]
  },
  {
   "cell_type": "code",
   "execution_count": null,
   "metadata": {},
   "outputs": [],
   "source": []
  }
 ],
 "metadata": {
  "kernelspec": {
   "display_name": "Python 3",
   "language": "python",
   "name": "python3"
  },
  "language_info": {
   "codemirror_mode": {
    "name": "ipython",
    "version": 3
   },
   "file_extension": ".py",
   "mimetype": "text/x-python",
   "name": "python",
   "nbconvert_exporter": "python",
   "pygments_lexer": "ipython3",
   "version": "3.7.3"
  }
 },
 "nbformat": 4,
 "nbformat_minor": 2
}
