{
 "cells": [
  {
   "cell_type": "markdown",
   "metadata": {},
   "source": [
    "# Week1授業課題2 何回折ったら富士山を超えるか問題"
   ]
  },
  {
   "cell_type": "code",
   "execution_count": 37,
   "metadata": {},
   "outputs": [],
   "source": [
    "import math"
   ]
  },
  {
   "cell_type": "code",
   "execution_count": 38,
   "metadata": {},
   "outputs": [],
   "source": [
    "THICKNESS = 0.00008\n",
    "FUJISAN = 3776"
   ]
  },
  {
   "cell_type": "markdown",
   "metadata": {},
   "source": [
    "## 【問題1】富士山を超える最小の折る回数\n",
    "厚さが「富士山(3776m)」を超えるのは何回紙を折った時か計算するプログラムを作成してください。"
   ]
  },
  {
   "cell_type": "code",
   "execution_count": 39,
   "metadata": {},
   "outputs": [
    {
     "name": "stdout",
     "output_type": "stream",
     "text": [
      "厚さが「富士山(3776m)」を超えるのは26回折った時である\n"
     ]
    }
   ],
   "source": [
    "fold_THICKNESS = THICKNESS\n",
    "count = 0\n",
    "while fold_THICKNESS < FUJISAN:\n",
    "    fold_THICKNESS *= 2\n",
    "    count += 1\n",
    "    \n",
    "print(\"厚さが「富士山(3776m)」を超えるのは{}回折った時である\".format(count))"
   ]
  },
  {
   "cell_type": "markdown",
   "metadata": {},
   "source": [
    "## 【問題2】任意の厚さに対応した関数を作成\n",
    "距離を入力すると、何回折った時に超えるかを出力する関数を作成してください。引数として、折る前の厚さ \n",
    "t\n",
    "0\n",
    " も設定できるようにしましょう。\n",
    "\n",
    "この関数を利用して、「最も近い太陽以外の恒星」に到達するには紙を何回折る必要があるか計算してください。  \n",
    "「最も近い太陽以外の恒星」の距離は調査してください。"
   ]
  },
  {
   "cell_type": "code",
   "execution_count": 40,
   "metadata": {},
   "outputs": [],
   "source": [
    "#距離を入力すると、何回折った時に超えるかを出力する関数\n",
    "#t=折る前の厚さ\n",
    "\n",
    "def count_fold_paper(t, dis):\n",
    "    time = 0\n",
    "    while t < dis:\n",
    "        t *= 2\n",
    "        time += 1\n",
    "    return time"
   ]
  },
  {
   "cell_type": "code",
   "execution_count": 41,
   "metadata": {},
   "outputs": [
    {
     "name": "stdout",
     "output_type": "stream",
     "text": [
      "最も近い太陽以外の恒星は：プロキシマ・ケンタウリ\n",
      "距離は:4.243光年\n",
      "距離は:4.0143e+16メートル\n"
     ]
    }
   ],
   "source": [
    "#最も近い太陽以外の恒星を調査\n",
    "#一光年　9.461e+12　kmとして計算\n",
    "KOUSEI = \"プロキシマ・ケンタウリ\"\n",
    "KOUSEI_DIS = 4.243 #単位は光年\n",
    "KOUSEI_DIS_M = (4.243*9.461*10**12) * 1000 #メートル単位に変換\n",
    "\n",
    "\n",
    "print(\"最も近い太陽以外の恒星は：{0}\\n距離は:{1}光年\\n距離は:{2:2g}メートル\".format(KOUSEI, KOUSEI_DIS, KOUSEI_DIS_M))"
   ]
  },
  {
   "cell_type": "code",
   "execution_count": 42,
   "metadata": {},
   "outputs": [
    {
     "name": "stdout",
     "output_type": "stream",
     "text": [
      "「最も近い太陽以外の恒星」に到達するには紙を69回折る必要がある\n"
     ]
    }
   ],
   "source": [
    "fold_kousei = count_fold_paper(THICKNESS, KOUSEI_DIS_M)\n",
    "print(\"「最も近い太陽以外の恒星」に到達するには紙を{}回折る必要がある\".format(fold_kousei))"
   ]
  },
  {
   "cell_type": "markdown",
   "metadata": {},
   "source": [
    "## 【問題3】必要な紙の長さ\n",
    "実際のところ身近にある紙は43回はおろか10回も折れません。しかし、大きな紙ほどたくさん折ることができ、トイレットペーパーのような長い紙を一方向に折ることを考えた時の折れる回数を求める公式が存在します。\n",
    "\n",
    "厚さ \n",
    "t\n",
    "0\n",
    " の紙をn回折るために必要な紙の長さLは以下の公式で求まります。\n",
    "\n",
    "L\n",
    "=\n",
    "π\n",
    "t\n",
    "0\n",
    "6\n",
    "(\n",
    "2\n",
    "n\n",
    "+\n",
    "4\n",
    ")\n",
    "(\n",
    "2\n",
    "n\n",
    "−\n",
    "1\n",
    ")\n",
    "この公式を利用して、実際に紙を折り任意の厚さに到達するために必要な紙の長さを求める関数を作成してください。\n",
    "\n",
    "そしてこれを使って「月」「富士山」「最も近い太陽以外の恒星」に届くために必要な紙の長さを求めてください。"
   ]
  },
  {
   "cell_type": "code",
   "execution_count": 43,
   "metadata": {},
   "outputs": [],
   "source": [
    "#紙を折り任意の厚さに到達するために必要な紙の長さを求める関数\n",
    "#t=紙の厚さ　　n=折る回数\n",
    "\n",
    "def length_paper(t, n):\n",
    "    n1 = 2**n\n",
    "    L = (math.pi * t / 6) * (n1+4) * (n1-1)\n",
    "    return L"
   ]
  },
  {
   "cell_type": "code",
   "execution_count": 49,
   "metadata": {},
   "outputs": [
    {
     "name": "stdout",
     "output_type": "stream",
     "text": [
      "富士山まで到達するために必要な紙の長さ：1.88646e+11メートル\n",
      "月までに到達するために必要な紙の長さ：3.24092e+21メートル\n",
      "最も近い太陽以外の恒星までに到達するために必要な紙の長さ：1.45958e+37メートル\n"
     ]
    }
   ],
   "source": [
    "MOON = 384400 * 1000 #月までの距離　単位メートル\n",
    "\n",
    "print(\"富士山まで到達するために必要な紙の長さ：{:2g}メートル\".format(length_paper(THICKNESS, count_fold_paper(THICKENESS, FUJISAN))))\n",
    "print(\"月までに到達するために必要な紙の長さ：{:2g}メートル\".format(length_paper(THICKNESS, count_fold_paper(THICKENESS, MOON))))\n",
    "print(\"最も近い太陽以外の恒星までに到達するために必要な紙の長さ：{:2g}メートル\".format(\n",
    "    length_paper(THICKNESS, count_fold_paper(THICKENESS, KOUSEI_DIS_M))))"
   ]
  }
 ],
 "metadata": {
  "kernelspec": {
   "display_name": "Python 3",
   "language": "python",
   "name": "python3"
  },
  "language_info": {
   "codemirror_mode": {
    "name": "ipython",
    "version": 3
   },
   "file_extension": ".py",
   "mimetype": "text/x-python",
   "name": "python",
   "nbconvert_exporter": "python",
   "pygments_lexer": "ipython3",
   "version": "3.7.3"
  }
 },
 "nbformat": 4,
 "nbformat_minor": 2
}
