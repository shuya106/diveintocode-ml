{
 "cells": [
  {
   "cell_type": "markdown",
   "metadata": {},
   "source": [
    "# Week2授業前課題3 行列積のスクラッチ"
   ]
  },
  {
   "cell_type": "code",
   "execution_count": 9,
   "metadata": {},
   "outputs": [],
   "source": [
    "import numpy as np"
   ]
  },
  {
   "cell_type": "markdown",
   "metadata": {},
   "source": [
    "## 【問題1】行列積を手計算する\n",
    "AとBの行列積を手計算で解いてください。\n",
    "\n",
    "計算過程もマークダウンテキストを用いて説明してください。"
   ]
  },
  {
   "cell_type": "markdown",
   "metadata": {},
   "source": [
    "<pre>\n",
    "A = -1,  2,  3　   B = 0, 2,  1\n",
    "     4, -5 , 6　　     0, 2, -8\n",
    "     7,  8, -9         2, 9, -1\n",
    "    \n",
    "AxB = (-1x0)+( 2x0)+( 3x2),   (-1x2)+( 2x2)+( 3x9),   (-1x1)+( 2x(-8))+( 3x(-1))  \n",
    "      ( 4x0)+(-5x0)+( 6x2),   ( 4x2)+(-5x2)+( 6x9),   ( 4x1)+(-5x(-8))+( 6x(-1))  \n",
    "      ( 7x0)+( 8x0)+(-9x2),   ( 7x2)+( 8x2)+(-9x9),   ( 7x1)+( 8x(-8))+(-9x(-1))  \n",
    "      \n",
    "AxB = 0+0+ 6, -2+ 4+27, -1-16-3  \n",
    "      0+0+12,  8-10+54,  4+40-6  \n",
    "      0+0-18, 14+16-81,  7-64+9  \n",
    "      \n",
    "AxB =   6,    29,  -20  \n",
    "       12,    52,   38  \n",
    "      -18,   -51,  -48    "
   ]
  },
  {
   "cell_type": "markdown",
   "metadata": {},
   "source": [
    "## 【問題2】NumPyの関数による計算\n",
    "この行列積はNumPyのnp.matmul()やnp.dot()、または@演算子を使うことで簡単に計算できます。\n",
    "\n",
    "これらを使い行列積を計算してください。"
   ]
  },
  {
   "cell_type": "code",
   "execution_count": 10,
   "metadata": {},
   "outputs": [],
   "source": [
    "a_ndarray = np.array([[-1, 2, 3], [4, -5, 6], [7, 8, -9]])\n",
    "b_ndarray = np.array([[0, 2, 1], [0, 2, -8], [2, 9, -1]])"
   ]
  },
  {
   "cell_type": "code",
   "execution_count": 11,
   "metadata": {},
   "outputs": [
    {
     "data": {
      "text/plain": [
       "array([[  6,  29, -20],\n",
       "       [ 12,  52,  38],\n",
       "       [-18, -51, -48]])"
      ]
     },
     "execution_count": 11,
     "metadata": {},
     "output_type": "execute_result"
    }
   ],
   "source": [
    "ab = np.matmul(a_ndarray, b_ndarray)\n",
    "ab"
   ]
  },
  {
   "cell_type": "markdown",
   "metadata": {},
   "source": [
    "## 【問題3】ある要素の計算を実装\n",
    "手計算をする際はまず行列Aの0行目と行列Bの0列目に注目し、以下の計算を行ったかと思います。  \n",
    "この計算をnp.matmul()やnp.dot()、または@演算子を使わずに行うコードを書いてください。"
   ]
  },
  {
   "cell_type": "code",
   "execution_count": 12,
   "metadata": {},
   "outputs": [
    {
     "name": "stdout",
     "output_type": "stream",
     "text": [
      "[[  6  29 -20]\n",
      " [ 12  52  38]\n",
      " [-18 -51 -48]]\n"
     ]
    }
   ],
   "source": [
    "A = a_ndarray\n",
    "B = b_ndarray\n",
    "\n",
    "result = 0\n",
    "result_list = []\n",
    "for n in range(3):\n",
    "    for j in range(3):\n",
    "        for i in range(3):\n",
    "            seki = A[n, i] * B[i, j]\n",
    "            result += seki\n",
    "        result_list.append(result)\n",
    "        result = 0\n",
    "        \n",
    "result_array = np.array(result_list)\n",
    "result_array_33 = result_array.reshape(3,3)\n",
    "print(result_array_33)"
   ]
  },
  {
   "cell_type": "markdown",
   "metadata": {},
   "source": [
    "## 【問題4】行列積を行う関数の作成\n",
    "問題3のコードを拡張し、行列積のスクラッチ実装を完成させてください。行列AとBを引数に受け取り、行列積を返す関数としてください。\n",
    "\n",
    "行列積を計算する場合は、問題3の計算を異なる行や列に対して繰り返していくことになります。\n",
    "\n",
    "for文を使い、ndarrayのインデックスを動かしていくことで、合計9つの要素が計算できます。  \n",
    "インデックスiやjを1増やすと、次の行や列に移ることができます。"
   ]
  },
  {
   "cell_type": "code",
   "execution_count": 13,
   "metadata": {},
   "outputs": [],
   "source": [
    "A = a_ndarray\n",
    "B = b_ndarray\n",
    "\n",
    "def multi(A, B):\n",
    "    result = 0\n",
    "    result_list = []\n",
    "    for n in range(A.shape[0]):\n",
    "        for j in range(B.shape[1]):\n",
    "            for i in range(A.shape[0]):\n",
    "                seki = A[n, i] * B[i, j]\n",
    "                result += seki\n",
    "            result_list.append(result)\n",
    "            result = 0\n",
    "    replace_result = np.array(result_list)\n",
    "    return  replace_result.reshape(A.shape[0], B.shape[1])"
   ]
  },
  {
   "cell_type": "markdown",
   "metadata": {},
   "source": [
    "## 【問題5】計算が定義されない入力を判定する\n",
    "問題4で作成した関数は、実装方法によってはこのDとEの配列を入力しても動いてしまう可能性があります。  \n",
    "この場合、不適切な計算が行われることになります。また、途中でエラーになる場合でも、なぜエラーになったかが直接的には分かりづらいメッセージが表示されます。\n",
    "\n",
    "if文などによってこれを防ぎ、入力される形に問題があることをprint()を使い表示するコードを書き加えてください。"
   ]
  },
  {
   "cell_type": "code",
   "execution_count": 14,
   "metadata": {},
   "outputs": [],
   "source": [
    "def multi_2(A, B):\n",
    "    result = 0\n",
    "    result_list = []\n",
    "    if A.shape[1] == B.shape[0]:\n",
    "        for n in range(A.shape[0]):\n",
    "            for j in range(B.shape[1]):\n",
    "                for i in range(A.shape[0]):\n",
    "                    seki = A[n, i] * B[i, j]\n",
    "                    result += seki\n",
    "                result_list.append(result)\n",
    "                result = 0\n",
    "        replace_result = np.array(result_list)\n",
    "        return  replace_result.reshape(A.shape[0], B.shape[1])\n",
    "    else:\n",
    "        print(\"定義できません\")"
   ]
  },
  {
   "cell_type": "code",
   "execution_count": 15,
   "metadata": {},
   "outputs": [
    {
     "name": "stdout",
     "output_type": "stream",
     "text": [
      "[[  6  29 -20]\n",
      " [ 12  52  38]\n",
      " [-18 -51 -48]]\n",
      "定義できません\n",
      "None\n"
     ]
    }
   ],
   "source": [
    "A = a_ndarray\n",
    "B = b_ndarray\n",
    "\n",
    "D = np.array([[-1, 2, 3],\n",
    "             [4, -5, 6]])\n",
    "E = np.array([[-9, 8, 7],\n",
    "             [6, -5, 4]])\n",
    "print(multi_2(A, B))\n",
    "print(multi_2(D, E))"
   ]
  },
  {
   "cell_type": "markdown",
   "metadata": {},
   "source": [
    "## 【問題6】転置\n",
    "片方の行列を転置することで、行列積が計算できるようになります。\n",
    "\n",
    "np.transpose()や.Tアトリビュートを用いて転置し、行列積を計算してください。"
   ]
  },
  {
   "cell_type": "code",
   "execution_count": 16,
   "metadata": {},
   "outputs": [
    {
     "data": {
      "text/plain": [
       "array([[ 25, -16],\n",
       "       [-76,  49]])"
      ]
     },
     "execution_count": 16,
     "metadata": {},
     "output_type": "execute_result"
    }
   ],
   "source": [
    "E_T = np.transpose(E)\n",
    "multi_2(D, E_T)"
   ]
  }
 ],
 "metadata": {
  "kernelspec": {
   "display_name": "Python 3",
   "language": "python",
   "name": "python3"
  },
  "language_info": {
   "codemirror_mode": {
    "name": "ipython",
    "version": 3
   },
   "file_extension": ".py",
   "mimetype": "text/x-python",
   "name": "python",
   "nbconvert_exporter": "python",
   "pygments_lexer": "ipython3",
   "version": "3.7.3"
  }
 },
 "nbformat": 4,
 "nbformat_minor": 2
}
