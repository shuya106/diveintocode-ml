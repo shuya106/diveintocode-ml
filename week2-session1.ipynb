{
 "cells": [
  {
   "cell_type": "markdown",
   "metadata": {},
   "source": [
    "# Week2授業課題1 二次元配列と勾配問題"
   ]
  },
  {
   "cell_type": "code",
   "execution_count": 1,
   "metadata": {},
   "outputs": [],
   "source": [
    "import numpy as np\n",
    "import matplotlib.pyplot as plt"
   ]
  },
  {
   "cell_type": "markdown",
   "metadata": {},
   "source": [
    "## 【問題1】1次関数\n",
    "x が-50から50の範囲で次の式を考えます。\n",
    "\n",
    "y = 1 2 x + 1 -50から50まで0.1間隔のxを表すndarrayと、各要素に対するyを表すndarrayを作成してください。"
   ]
  },
  {
   "cell_type": "code",
   "execution_count": 2,
   "metadata": {},
   "outputs": [],
   "source": [
    "x = np.arange(-50, 50.1, 0.1)"
   ]
  },
  {
   "cell_type": "code",
   "execution_count": 3,
   "metadata": {},
   "outputs": [],
   "source": [
    "def func(x):\n",
    "    y = (1/2)*x + 1\n",
    "    return y"
   ]
  },
  {
   "cell_type": "code",
   "execution_count": 5,
   "metadata": {},
   "outputs": [
    {
     "data": {
      "text/plain": [
       "array([-24.  , -23.95, -23.9 , ...,  25.9 ,  25.95,  26.  ])"
      ]
     },
     "execution_count": 5,
     "metadata": {},
     "output_type": "execute_result"
    }
   ],
   "source": [
    "y = func(x)\n",
    "y"
   ]
  },
  {
   "cell_type": "markdown",
   "metadata": {},
   "source": [
    "## 【問題2】配列の結合\n",
    "問題1で作成したndarrayを結合し、(1001, 2)の形の配列にしてください。0列目にx、1列目にyが来るようにします。"
   ]
  },
  {
   "cell_type": "code",
   "execution_count": 7,
   "metadata": {},
   "outputs": [
    {
     "data": {
      "text/plain": [
       "(1001, 2)"
      ]
     },
     "execution_count": 7,
     "metadata": {},
     "output_type": "execute_result"
    }
   ],
   "source": [
    "xy_array = np.zeros((1001, 2))\n",
    "\n",
    "xy_array[:,0] = x\n",
    "xy_array[:,1] = y\n",
    "\n",
    "xy_array.shape"
   ]
  },
  {
   "cell_type": "markdown",
   "metadata": {},
   "source": [
    "## 【問題3】勾配を求める\n",
    "各x座標における勾配を求めます。ここで勾配はyの変化量をxの変化量で割ることで計算します。"
   ]
  },
  {
   "cell_type": "code",
   "execution_count": 8,
   "metadata": {},
   "outputs": [
    {
     "data": {
      "text/plain": [
       "(1000,)"
      ]
     },
     "execution_count": 8,
     "metadata": {},
     "output_type": "execute_result"
    }
   ],
   "source": [
    "x_diff = x[1:] - x[:-1]\n",
    "y_diff = y[1:] - y[:-1]\n",
    "\n",
    "xy_slope = y_diff / x_diff\n",
    "xy_slope.shape"
   ]
  },
  {
   "cell_type": "markdown",
   "metadata": {},
   "source": [
    "## 【問題4】グラフを描く\n",
    "1次関数のグラフをMatplotlibを用いて描いてください。また、それとは別に横軸をx、縦軸を勾配としたグラフも描いてください。"
   ]
  },
  {
   "cell_type": "code",
   "execution_count": 9,
   "metadata": {},
   "outputs": [
    {
     "data": {
      "text/plain": [
       "[<matplotlib.lines.Line2D at 0x12074f5f8>]"
      ]
     },
     "execution_count": 9,
     "metadata": {},
     "output_type": "execute_result"
    },
    {
     "data": {
      "image/png": "[encoded data removed]",
      "text/plain": [
       "<Figure size 432x288 with 1 Axes>"
      ]
     },
     "metadata": {
      "needs_background": "light"
     },
     "output_type": "display_data"
    }
   ],
   "source": [
    "graph_xy_slope = np.append(xy_slope, 0.5)\n",
    "\n",
    "plt.title(\"Linear Function\")\n",
    "plt.xlabel(\"x\")\n",
    "plt.ylabel(\"y\")\n",
    "plt.grid(True)\n",
    "plt.plot(x, y)\n",
    "\n",
    "plt.plot(x, graph_xy_slope)"
   ]
  },
  {
   "cell_type": "markdown",
   "metadata": {},
   "source": [
    "## 【問題5】Pythonの関数化\n",
    "問題1から問題3までの範囲をまとめて行うPythonの関数を雛形を参考に作成してください。 の範囲は前2つが-50から50、最後の1つが0から50です。0.1間隔でndarrayを作成してください。\n",
    "\n",
    "また、問題4と同様にグラフを描いてください。\n",
    "\n",
    "ndarrayに対して三角関数のsinの計算を行うには np.sin()を用います。"
   ]
  },
  {
   "cell_type": "code",
   "execution_count": 10,
   "metadata": {},
   "outputs": [],
   "source": [
    "def func1(x):\n",
    "    y = x**2\n",
    "    return y\n",
    "\n",
    "def func2(x):\n",
    "    y = 2*x**2 + 2**x\n",
    "    return y\n",
    "\n",
    "def func3(x):\n",
    "    y = np.sin(x**0.5)\n",
    "    return y"
   ]
  },
  {
   "cell_type": "code",
   "execution_count": 15,
   "metadata": {},
   "outputs": [],
   "source": [
    "def compute_gradient(function, x_range=np.arange(-50, 50.1, 0.1)):\n",
    "    y = function(x_range)\n",
    "    x_diff = x_range[1:] - x_range[:-1]\n",
    "    y_diff = y[1:] - y[:-1]\n",
    "    slope = y_diff / x_diff\n",
    "    \n",
    "    con_array = np.zeros((len(x_range), 2))\n",
    "    con_array[:,0] = x\n",
    "    con_array[:,1] = y\n",
    "    return slope, con_array\n",
    "\n",
    "def compute_gradient_sin(function, x_range=np.arange(0, 50.1, 0.1)):\n",
    "    y = function(x_range)\n",
    "    x_diff = x_range[1:] - x_range[:-1]\n",
    "    y_diff = y[1:] - y[:-1]\n",
    "    slope = y_diff / x_diff\n",
    "    \n",
    "    con_array = np.zeros((len(x_range), 2))\n",
    "    con_array[:,0] = x_range\n",
    "    con_array[:,1] = y\n",
    "    return slope, con_array"
   ]
  },
  {
   "cell_type": "code",
   "execution_count": 16,
   "metadata": {},
   "outputs": [
    {
     "data": {
      "text/plain": [
       "[<matplotlib.lines.Line2D at 0x120bd6978>]"
      ]
     },
     "execution_count": 16,
     "metadata": {},
     "output_type": "execute_result"
    },
    {
     "data": {
      "image/png": "[encoded data removed]",
      "text/plain": [
       "<Figure size 432x288 with 2 Axes>"
      ]
     },
     "metadata": {
      "needs_background": "light"
     },
     "output_type": "display_data"
    }
   ],
   "source": [
    "#func1のグラフ  y=x**2\n",
    "func1_num = compute_gradient(func1)[1]\n",
    "func1_slope = compute_gradient(func1)[0]\n",
    "plt.subplot(121)\n",
    "plt.title(\"result\")\n",
    "plt.xlabel(\"x\")\n",
    "plt.ylabel(\"y\")\n",
    "plt.plot(func1_num[:,0], func1_num[:,1])\n",
    "\n",
    "#func1勾配のグラフ\n",
    "func1_num_del = np.delete(func1_num, -1, 0)  #y軸（勾配）の数に合わせるため最後の行を削除\n",
    "plt.subplot(122)\n",
    "plt.title(\"slope\")\n",
    "plt.xlabel(\"x\")\n",
    "plt.plot(func1_num_del[:,0], func1_slope)"
   ]
  },
  {
   "cell_type": "code",
   "execution_count": 17,
   "metadata": {},
   "outputs": [
    {
     "data": {
      "text/plain": [
       "[<matplotlib.lines.Line2D at 0x120d0b160>]"
      ]
     },
     "execution_count": 17,
     "metadata": {},
     "output_type": "execute_result"
    },
    {
     "data": {
      "image/png": "[encoded data removed]",
      "text/plain": [
       "<Figure size 432x288 with 2 Axes>"
      ]
     },
     "metadata": {
      "needs_background": "light"
     },
     "output_type": "display_data"
    }
   ],
   "source": [
    "#func2のグラフ  y = 2*x**2 + 2**x\n",
    "func2_num = compute_gradient(func2)[1]\n",
    "func2_slope = compute_gradient(func2)[0]\n",
    "plt.subplot(121)\n",
    "plt.title(\"result\")\n",
    "plt.xlabel(\"x\")\n",
    "plt.ylabel(\"y\")\n",
    "plt.plot(func2_num[:,0], func2_num[:,1])\n",
    "\n",
    "#func2勾配のグラフ\n",
    "func2_num_del = np.delete(func2_num, -1, 0)  #y軸（勾配）の数に合わせるため最後の行を削除\n",
    "plt.subplot(122)\n",
    "plt.title(\"slope\")\n",
    "plt.xlabel(\"x\")\n",
    "plt.plot(func2_num_del[:,0], func2_slope)\n"
   ]
  },
  {
   "cell_type": "code",
   "execution_count": 18,
   "metadata": {},
   "outputs": [
    {
     "data": {
      "text/plain": [
       "[<matplotlib.lines.Line2D at 0x120e3a400>]"
      ]
     },
     "execution_count": 18,
     "metadata": {},
     "output_type": "execute_result"
    },
    {
     "data": {
      "image/png": "[encoded data removed]",
      "text/plain": [
       "<Figure size 432x288 with 2 Axes>"
      ]
     },
     "metadata": {
      "needs_background": "light"
     },
     "output_type": "display_data"
    }
   ],
   "source": [
    "#func3のグラフ   y = np.sin(x**0.5)\n",
    "func3_num = compute_gradient_sin(func3)[1]\n",
    "func3_slope = compute_gradient_sin(func3)[0]\n",
    "plt.subplot(121)\n",
    "plt.title(\"result\")\n",
    "plt.xlabel(\"x\")\n",
    "plt.ylabel(\"y\")\n",
    "plt.plot(func3_num[:,0], func3_num[:,1])\n",
    "\n",
    "#func3勾配のグラフ\n",
    "func3_num_del = np.delete(func3_num, -1, 0)  #y軸（勾配）の数に合わせるため最後の行を削除\n",
    "plt.subplot(122)\n",
    "plt.title(\"slope\")\n",
    "plt.xlabel(\"x\")\n",
    "plt.plot(func3_num_del[:,0], func3_slope)"
   ]
  },
  {
   "cell_type": "markdown",
   "metadata": {},
   "source": [
    "## 【問題6】最小値を求める\n",
    "問題5で扱った関数のyの最小値を求めます。xの範囲も問題5と同様とします。\n",
    "\n",
    "今回は勾配降下法ではなく、ndarrayのminメソッド、argminメソッドを用いてください。minメソッドは最小値を、argminメソッドは最小値のインデックスを取得することができます。\n",
    "\n",
    "また、最小のyをとる前後の勾配を表示してください。"
   ]
  },
  {
   "cell_type": "code",
   "execution_count": 19,
   "metadata": {},
   "outputs": [],
   "source": [
    "def compute_gradient_min(function, x_range=np.arange(-50, 50.1, 0.1)):\n",
    "    y = function(x_range)\n",
    "    x_diff = x_range[1:] - x_range[:-1]\n",
    "    y_diff = y[1:] - y[:-1]\n",
    "    slope = y_diff / x_diff\n",
    "    \n",
    "    con_array = np.zeros((len(x_range), 2))\n",
    "    con_array[:,0] = x_range\n",
    "    con_array[:,1] = y\n",
    "    \n",
    "    y_min = y.min()\n",
    "    y_argmin = y.argmin()\n",
    "    y_argmin_back = slope[y_argmin -1]\n",
    "    y_argmin_front = slope[y_argmin + 1]\n",
    "    return y_min, y_argmin, y_argmin_back, y_argmin_front\n",
    "\n",
    "def compute_gradient_sin_min(function, x_range=np.arange(0, 50.1, 0.1)):\n",
    "    y = function(x_range)\n",
    "    x_diff = x_range[1:] - x_range[:-1]\n",
    "    y_diff = y[1:] - y[:-1]\n",
    "    slope = y_diff / x_diff\n",
    "    \n",
    "    con_array = np.zeros((len(x_range), 2))\n",
    "    con_array[:,0] = x_range\n",
    "    con_array[:,1] = y\n",
    "    \n",
    "    y_min = y.min()\n",
    "    y_argmin = y.argmin()\n",
    "    y_argmin_back = slope[y_argmin -1]\n",
    "    y_argmin_front = slope[y_argmin + 1]\n",
    "    return y_min, y_argmin, y_argmin_back, y_argmin_front"
   ]
  },
  {
   "cell_type": "code",
   "execution_count": 25,
   "metadata": {},
   "outputs": [
    {
     "name": "stdout",
     "output_type": "stream",
     "text": [
      "func1の最小値は: 5.048709793414476e-25\n",
      "func1の最小のインデックスは: 500\n",
      "func1の最小の一つ手前の勾配は: -0.09999999999858034\n",
      "func1の最小の一つ後の勾配は: 0.30000000000142535\n"
     ]
    }
   ],
   "source": [
    "func1_min, func1_argmin, func1_argmin_back, func1_argmin_front = compute_gradient_min(func1)\n",
    "print(\"func1の最小値は:\",func1_min)\n",
    "print(\"func1の最小のインデックスは:\",func1_argmin)\n",
    "print(\"func1の最小の一つ手前の勾配は:\",func1_argmin_back)\n",
    "print(\"func1の最小の一つ後の勾配は:\",func1_argmin_front)"
   ]
  },
  {
   "cell_type": "code",
   "execution_count": 26,
   "metadata": {},
   "outputs": [
    {
     "name": "stdout",
     "output_type": "stream",
     "text": [
      "func2の最小値は: 0.9505505632959851\n",
      "func2の最小のインデックスは: 498\n",
      "func2の最小の一つ手前の勾配は: -0.4170183305979998\n",
      "func2の最小の一つ後の勾配は: 0.4696700846350943\n"
     ]
    }
   ],
   "source": [
    "func2_min, func2_argmin, func2_argmin_back, func2_argmin_front = compute_gradient_min(func2)\n",
    "print(\"func2の最小値は:\",func2_min)\n",
    "print(\"func2の最小のインデックスは:\",func2_argmin)\n",
    "print(\"func2の最小の一つ手前の勾配は:\",func2_argmin_back)\n",
    "print(\"func2の最小の一つ後の勾配は:\",func2_argmin_front)"
   ]
  },
  {
   "cell_type": "code",
   "execution_count": 27,
   "metadata": {},
   "outputs": [
    {
     "name": "stdout",
     "output_type": "stream",
     "text": [
      "func3の最小値は: -0.9999997540298113\n",
      "func3の最小のインデックスは: 222\n",
      "func3の最小の一つ手前の勾配は: -0.0006388422559544435\n",
      "func3の最小の一つ後の勾配は: 0.0016061158921243152\n"
     ]
    }
   ],
   "source": [
    "func3_min, func3_argmin, func3_argmin_back, func3_argmin_front = compute_gradient_sin_min(func3)\n",
    "print(\"func3の最小値は:\",func3_min)\n",
    "print(\"func3の最小のインデックスは:\",func3_argmin)\n",
    "print(\"func3の最小の一つ手前の勾配は:\",func3_argmin_back)\n",
    "print(\"func3の最小の一つ後の勾配は:\",func3_argmin_front)"
   ]
  },
  {
   "cell_type": "code",
   "execution_count": null,
   "metadata": {},
   "outputs": [],
   "source": []
  }
 ],
 "metadata": {
  "kernelspec": {
   "display_name": "Python 3",
   "language": "python",
   "name": "python3"
  },
  "language_info": {
   "codemirror_mode": {
    "name": "ipython",
    "version": 3
   },
   "file_extension": ".py",
   "mimetype": "text/x-python",
   "name": "python",
   "nbconvert_exporter": "python",
   "pygments_lexer": "ipython3",
   "version": "3.7.3"
  }
 },
 "nbformat": 4,
 "nbformat_minor": 2
}
