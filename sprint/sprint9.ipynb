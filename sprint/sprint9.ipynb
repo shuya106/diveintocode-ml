{
 "cells": [
  {
   "cell_type": "markdown",
   "metadata": {},
   "source": [
    "# Sprint 深層学習スクラッチ ニューラルネットワーク"
   ]
  },
  {
   "cell_type": "code",
   "execution_count": 1,
   "metadata": {},
   "outputs": [
    {
     "name": "stderr",
     "output_type": "stream",
     "text": [
      "Using TensorFlow backend.\n"
     ]
    }
   ],
   "source": [
    "import numpy as np\n",
    "\n",
    "import matplotlib.pyplot as plt\n",
    "%matplotlib inline\n",
    "\n",
    "from keras.datasets import mnist\n",
    "\n",
    "from sklearn.preprocessing import OneHotEncoder\n",
    "from sklearn.model_selection import train_test_split\n",
    "from sklearn.metrics import accuracy_score"
   ]
  },
  {
   "cell_type": "code",
   "execution_count": 2,
   "metadata": {},
   "outputs": [],
   "source": [
    "(X_train, t_train), (X_test, t_test) = mnist.load_data()"
   ]
  },
  {
   "cell_type": "code",
   "execution_count": 3,
   "metadata": {
    "scrolled": true
   },
   "outputs": [
    {
     "data": {
      "image/png": "[encoded data removed]",
      "text/plain": [
       "<Figure size 432x288 with 1 Axes>"
      ]
     },
     "metadata": {
      "needs_background": "light"
     },
     "output_type": "display_data"
    }
   ],
   "source": [
    "index = 0\n",
    "image = X_train[index].reshape(28,28)\n",
    "# X_train[index]: (784,)\n",
    "# image: (28, 28)\n",
    "plt.imshow(image, 'gray')\n",
    "plt.title('label : {}'.format(t_train[index]))\n",
    "plt.show()"
   ]
  },
  {
   "cell_type": "code",
   "execution_count": 4,
   "metadata": {},
   "outputs": [],
   "source": [
    "X_train  = X_train.reshape(-1, 784)\n",
    "X_test = X_test.reshape(-1, 784)"
   ]
  },
  {
   "cell_type": "code",
   "execution_count": 5,
   "metadata": {},
   "outputs": [],
   "source": [
    "X_train = X_train.astype(np.float)\n",
    "X_test = X_test.astype(np.float)\n",
    "X_train /= 255\n",
    "X_test /= 255"
   ]
  },
  {
   "cell_type": "code",
   "execution_count": 6,
   "metadata": {},
   "outputs": [],
   "source": [
    "enc = OneHotEncoder(handle_unknown=\"ignore\", sparse=False)\n",
    "t_train_one_hot = enc.fit_transform(t_train[:, np.newaxis])\n",
    "t_test_one_hot = enc.fit_transform(t_test[:,  np.newaxis])"
   ]
  },
  {
   "cell_type": "code",
   "execution_count": 7,
   "metadata": {},
   "outputs": [],
   "source": [
    "X_train, X_val, t_train, t_val = train_test_split(X_train, t_train_one_hot, test_size=0.2)"
   ]
  },
  {
   "cell_type": "code",
   "execution_count": 8,
   "metadata": {},
   "outputs": [],
   "source": [
    "class GetMiniBatch:\n",
    "    \"\"\"\n",
    "    ミニバッチを取得するイテレータ\n",
    "\n",
    "    Parameters\n",
    "    ----------\n",
    "    X : 次の形のndarray, shape (n_samples, n_features)\n",
    "      訓練用データ\n",
    "    y : 次の形のndarray, shape (n_samples, 1)\n",
    "      正解値\n",
    "    batch_size : int\n",
    "      バッチサイズ\n",
    "    seed : int\n",
    "      NumPyの乱数のシード\n",
    "    \"\"\"\n",
    "    def __init__(self, X, y, batch_size = 20, seed=0):\n",
    "        self.batch_size = batch_size\n",
    "        np.random.seed(seed)\n",
    "        shuffle_index = np.random.permutation(np.arange(X.shape[0]))\n",
    "        self._X = X[shuffle_index]\n",
    "        self._y = y[shuffle_index]\n",
    "        self._stop = np.ceil(X.shape[0]/self.batch_size).astype(np.int)\n",
    "\n",
    "    def __len__(self):\n",
    "        return self._stop\n",
    "\n",
    "    def __getitem__(self,item):\n",
    "        p0 = item*self.batch_size\n",
    "        p1 = item*self.batch_size + self.batch_size\n",
    "        return self._X[p0:p1], self._y[p0:p1]        \n",
    "\n",
    "    def __iter__(self):\n",
    "        self._counter = 0\n",
    "        return self\n",
    "\n",
    "    def __next__(self):\n",
    "        if self._counter >= self._stop:\n",
    "            raise StopIteration()\n",
    "        p0 = self._counter*self.batch_size\n",
    "        p1 = self._counter*self.batch_size + self.batch_size\n",
    "        self._counter += 1\n",
    "        return self._X[p0:p1], self._y[p0:p1]"
   ]
  },
  {
   "cell_type": "markdown",
   "metadata": {},
   "source": [
    "## 問題1】重みの初期値を決めるコードの作成\n",
    "ニューラルネットワークの各層の重みの初期値を決めるコードを作成してください。\n",
    "\n",
    "重みの初期値は様々な方法が提案されていますが、今回はガウス分布による単純な初期化を行います。バイアスに関しても同様です。\n",
    "\n",
    "以下のコードを参考にしてください。標準偏差の値sigmaはハイパーパラメータです。発展的な重みの初期化方法については次のSprintで扱います。"
   ]
  },
  {
   "cell_type": "markdown",
   "metadata": {},
   "source": [
    "## 【問題2】フォワードプロパゲーションの実装\n",
    "三層のニューラルネットワークの フォワードプロパゲーション を作成してください。以下の説明ではノード数は1層目は400、2層目は200としますが、変更しても構いません。"
   ]
  },
  {
   "cell_type": "markdown",
   "metadata": {},
   "source": [
    "## 【問題3】交差エントロピー誤差の実装\n",
    "目的関数（損失関数）を作成します。\n",
    "\n",
    "多クラス分類の目的関数である交差エントロピー誤差 \n",
    "L\n",
    " は次の数式です。"
   ]
  },
  {
   "cell_type": "markdown",
   "metadata": {},
   "source": [
    "## 【問題4】バックプロパゲーションの実装\n",
    "三層のニューラルネットワークのバックプロパゲーションを作成してください。確率的勾配降下法を行う部分です。\n",
    "\n",
    "数式を以下に示します。"
   ]
  },
  {
   "cell_type": "markdown",
   "metadata": {},
   "source": [
    "## 【問題5】推定\n",
    "推定を行うメソッドを作成してください。"
   ]
  },
  {
   "cell_type": "markdown",
   "metadata": {},
   "source": [
    "## 【問題6】学習と推定\n",
    "MNISTのデータを学習・推定し、Accuracyを計算してください。"
   ]
  },
  {
   "cell_type": "code",
   "execution_count": 24,
   "metadata": {},
   "outputs": [],
   "source": [
    "class ScratchSimpleNeuralNetrowkClassifier():\n",
    "    \"\"\"\n",
    "    シンプルな三層ニューラルネットワーク分類器\n",
    "    Parameters\n",
    "    -------------------\n",
    "    \n",
    "    Attributest\n",
    "    -------------------\n",
    "    \"\"\"\n",
    "    \n",
    "    def __init__(self, verbose=False, lr = 0.1, epochs=3, sigma=0.01):\n",
    "        self.verbose = verbose\n",
    "        \n",
    "        self.lr = lr\n",
    "        self.epochs = epochs\n",
    "        self.sigma = sigma\n",
    "        \n",
    "        self.W1 = self._init_W(784, 400)\n",
    "        self.W2 = self._init_W(400, 200)\n",
    "        self.W3 = self._init_W(200, 10)\n",
    "        \n",
    "        self.B1  = self.sigma * np.random.randn(400)\n",
    "        self.B2  = self.sigma * np.random.randn(200)\n",
    "        self.B3  = self.sigma * np.random.randn(10)\n",
    "        \n",
    "        self.cross_entropy_list = []\n",
    "        self.cross_entropy_list_val = []\n",
    "        \n",
    "    def _init_W(self, input_shape, output_shape):\n",
    "        n_features = input_shape\n",
    "        n_nodes = output_shape\n",
    "        sigma = 0.01\n",
    "        W = sigma * np.random.randn(n_features, n_nodes)\n",
    "        \n",
    "        return W\n",
    "    \n",
    "    def _tanh(self, X):\n",
    "        return (np.exp(X) - np.exp(-X)) / (np.exp(X) + np.exp(-X))\n",
    "    \n",
    "    def _softmax(self, X):\n",
    "        softmax_result = np.empty((X.shape[0], X.shape[1]))\n",
    "        exp_a = np.exp(X)\n",
    "        exp_sum = np.sum(exp_a, axis=1)\n",
    "        for i in range(X.shape[0]):\n",
    "            softmax_result[i] = exp_a[i] / exp_sum[i]\n",
    "            \n",
    "        return softmax_result\n",
    "    \n",
    "    def _forward(self, X):\n",
    "        self.a1 = X@self.W1 + self.B1\n",
    "        self.z1 = self._tanh(self.a1)\n",
    "        self.a2 = self.z1@self.W2 + self.B2\n",
    "        self.z2 = self._tanh(self.a2)\n",
    "        self.a3 = self.z2@self.W3 +self.B3\n",
    "        self.z3= self._softmax(self.a3)\n",
    "        \n",
    "        return self.z3\n",
    "        \n",
    "    \n",
    "    def _back(self,X, t):\n",
    "        L_A3 = np.average(self.z3 - t, axis=0)\n",
    "        L_W3 = np.average(self.z2, axis=0).reshape(200, 1) * L_A3\n",
    "        L_B3 = L_A3.copy()\n",
    "        L_Z2 = L_A3 @ self.W3.T\n",
    "        \n",
    "        ave_a2 = np.average(self.a2, axis=0)\n",
    "        ave_a2_tanh = self._tanh(ave_a2)\n",
    "        ave_a2_tanh2 = ave_a2_tanh**2\n",
    "        ave_a2_tanh2_1 = 1 - ave_a2_tanh2\n",
    "        L_A2 = (L_Z2 * ave_a2_tanh2_1)\n",
    "        ave_z1 = np.average(self.z1, axis=0)\n",
    "        L_W2 = ave_z1.reshape(400, 1) * L_A2\n",
    "        L_B2 = L_A2.copy()\n",
    "        L_Z1 = L_A2 @ self.W2.T\n",
    "        \n",
    "        ave_a1 = np.average(self.a1, axis=0)\n",
    "        ave_a1_tanh = self._tanh(ave_a1)\n",
    "        ave_a1_tanh2= ave_a1_tanh**2\n",
    "        ave_a2_tanh2_1 = 1 - ave_a1_tanh2\n",
    "        L_A1 = L_Z1  * ave_a2_tanh2_1\n",
    "        L_B1 = L_A1.copy()\n",
    "        ave_X = np.average(X, axis=0)\n",
    "        L_W1 = ave_X.reshape(784, 1) * L_A1\n",
    "        \n",
    "        self.W1 = self.W1 -  self.lr * L_W1\n",
    "        self.W2 = self.W2 -  self.lr * L_W2\n",
    "        self.W3 = self.W3 -  self.lr * L_W3\n",
    "        self.B1 = self.B1 -  self.lr * L_B1\n",
    "        self.B2 = self.B2 -  self.lr * L_B2\n",
    "        self.B3 = self.B3 -  self.lr * L_B3\n",
    "    \n",
    "    \n",
    "    def _cross_entropy(self, t):\n",
    "        return -np.average(np.sum(t*np.log(self.z3), axis=1))\n",
    "    \n",
    "    \n",
    "        \n",
    "    def fit(self, X, t, X_val=np.array([]), t_val=np.array([])):\n",
    "        \"\"\"\n",
    "        ニューラルネットワーク分類器を学習する。\n",
    "        Parameters\n",
    "        -------------------\n",
    "        X : 次の形のndarray, shape(n_samples, n_features)\n",
    "        t:次の形のndarray, shape(n_samples, n_features)\n",
    "        X_val: 訓練用データ　shapeはXと同じ\n",
    "        t_val:訓練用データ　shapeはtと同じ\n",
    "        \"\"\"\n",
    "        \n",
    "        for i in range(self.epochs):\n",
    "            get_mini_batch = GetMiniBatch(X  , t , batch_size=20)\n",
    "            for X_train_min, t_train_min in get_mini_batch:\n",
    "                self._forward(X_train_min)\n",
    "                self._back(X_train_min, t_train_min)\n",
    "            self._forward(X)\n",
    "            self.cross_entropy_list.append(self._cross_entropy(t))\n",
    "        \n",
    "        if X_val.size != 0:\n",
    "            self.W1 = self._init_W(784, 400)\n",
    "            self.W2 = self._init_W(400, 200)\n",
    "            self.W3 = self._init_W(200, 10)\n",
    "            self.B1  = self.sigma * np.random.randn(400)\n",
    "            self.B2  = self.sigma * np.random.randn(200)\n",
    "            self.B3  = self.sigma * np.random.randn(10)\n",
    "            for i in range(self.epochs):\n",
    "                get_mini_batch = GetMiniBatch(X_val , t_val , batch_size=20)\n",
    "                for X_train_min, t_train_min in get_mini_batch:\n",
    "                    self._forward(X_train_min)\n",
    "                    self._back(X_train_min, t_train_min)\n",
    "                self._forward(X_val)\n",
    "                self.cross_entropy_list_val.append(self._cross_entropy(t_val))\n",
    "            \n",
    "        \n",
    "            \n",
    "            \n",
    "        \n",
    "        if self.verbose:\n",
    "            print(self.cross_entropy_list)\n",
    "    \n",
    "    def predict(self, X):\n",
    "        \"\"\"\n",
    "        ニューラルネットワーク分類器を使い推定する。\n",
    "        Parameters\n",
    "        ----------------\n",
    "        X : 次の形のndarray, shape (n_samples, n_features)\n",
    "        \n",
    "        Returns\n",
    "        ----------------\n",
    "        y: ndarray ( n_samples, 1)\n",
    "        \"\"\"\n",
    "        y = np.argmax(self._forward(X), axis=1)\n",
    "        return y\n",
    "        "
   ]
  },
  {
   "cell_type": "code",
   "execution_count": 17,
   "metadata": {},
   "outputs": [],
   "source": [
    "snc = ScratchSimpleNeuralNetrowkClassifier()"
   ]
  },
  {
   "cell_type": "code",
   "execution_count": 18,
   "metadata": {},
   "outputs": [],
   "source": [
    "snc.fit(X_train, t_train)"
   ]
  },
  {
   "cell_type": "code",
   "execution_count": 20,
   "metadata": {},
   "outputs": [],
   "source": [
    "y = snc.predict(X_test)"
   ]
  },
  {
   "cell_type": "code",
   "execution_count": 21,
   "metadata": {},
   "outputs": [
    {
     "name": "stdout",
     "output_type": "stream",
     "text": [
      "0.7983\n"
     ]
    }
   ],
   "source": [
    "print(accuracy_score(t_test, y))"
   ]
  },
  {
   "cell_type": "markdown",
   "metadata": {},
   "source": [
    "## 【問題7】学習曲線のプロット\n",
    "学習曲線をプロットしてください。\n",
    "\n",
    "ニューラルネットワークは過学習が発生しやすいため、学習曲線の確認が重要です。trainデータとvalデータに対するエポックごとの損失（交差エントロピー誤差）を記録できるようにする必要があります。"
   ]
  },
  {
   "cell_type": "code",
   "execution_count": 25,
   "metadata": {},
   "outputs": [],
   "source": [
    "snc2 = ScratchSimpleNeuralNetrowkClassifier(epochs=5, lr= 0.1)"
   ]
  },
  {
   "cell_type": "code",
   "execution_count": 26,
   "metadata": {},
   "outputs": [],
   "source": [
    "snc2.fit(X_train, t_train, X_val, t_val)"
   ]
  },
  {
   "cell_type": "code",
   "execution_count": 28,
   "metadata": {},
   "outputs": [
    {
     "data": {
      "image/png": "[encoded data removed]",
      "text/plain": [
       "<Figure size 432x288 with 1 Axes>"
      ]
     },
     "metadata": {
      "needs_background": "light"
     },
     "output_type": "display_data"
    }
   ],
   "source": [
    "plt.plot(snc2.cross_entropy_list)\n",
    "plt.plot(snc2.cross_entropy_list_val)\n",
    "plt.xlabel(\"epochs\")\n",
    "plt.ylabel(\"loss\")\n",
    "plt.title(\"scratch NN loss\")\n",
    "plt.show()"
   ]
  },
  {
   "cell_type": "code",
   "execution_count": null,
   "metadata": {},
   "outputs": [],
   "source": []
  }
 ],
 "metadata": {
  "kernelspec": {
   "display_name": "Python 3",
   "language": "python",
   "name": "python3"
  },
  "language_info": {
   "codemirror_mode": {
    "name": "ipython",
    "version": 3
   },
   "file_extension": ".py",
   "mimetype": "text/x-python",
   "name": "python",
   "nbconvert_exporter": "python",
   "pygments_lexer": "ipython3",
   "version": "3.7.3"
  },
  "toc": {
   "base_numbering": 1,
   "nav_menu": {},
   "number_sections": true,
   "sideBar": true,
   "skip_h1_title": false,
   "title_cell": "Table of Contents",
   "title_sidebar": "Contents",
   "toc_cell": false,
   "toc_position": {},
   "toc_section_display": true,
   "toc_window_display": false
  }
 },
 "nbformat": 4,
 "nbformat_minor": 2
}
