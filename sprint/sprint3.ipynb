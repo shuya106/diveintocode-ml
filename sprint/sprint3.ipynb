{
 "cells": [
  {
   "cell_type": "code",
   "execution_count": 1,
   "metadata": {},
   "outputs": [],
   "source": [
    "import sys\n",
    "\n",
    "import numpy as np\n",
    "import pandas as pd\n",
    "import os\n",
    "import statsmodels.api as sm\n",
    "import random\n",
    "\n",
    "import matplotlib.pyplot as plt\n",
    "\n",
    "from sklearn.model_selection import train_test_split\n",
    "from sklearn.linear_model import LinearRegression\n",
    "from sklearn.metrics import accuracy_score, precision_score, recall_score, f1_score, confusion_matrix"
   ]
  },
  {
   "cell_type": "markdown",
   "metadata": {},
   "source": [
    "## 【問題1】仮定関数\n",
    "以下の数式で表される線形回帰の仮定関数を実装してください。メソッドの雛形を用意してあります。"
   ]
  },
  {
   "cell_type": "markdown",
   "metadata": {},
   "source": [
    "## 【問題2】最急降下法\n",
    "最急降下法により学習させる実装を行なってください。以下の式で表されるパラメータの更新式のメソッド_gradient_descentを追加し、fit\n",
    "メソッドから呼び出すようにしてください。"
   ]
  },
  {
   "cell_type": "markdown",
   "metadata": {},
   "source": [
    "## 【問題3】推定\n",
    "推定する仕組みを実装してください。ScratchLinearRegressionクラスの雛形に含まれるpredictメソッドに書き加えてください。\n",
    "\n",
    "仮定関数 \n",
    "h\n",
    "θ\n",
    "(\n",
    "x\n",
    ")\n",
    " の出力が推定結果です。"
   ]
  },
  {
   "cell_type": "markdown",
   "metadata": {},
   "source": [
    "## 【問題4】平均二乗誤差¶\n",
    "線形回帰の指標値として用いられる平均二乗誤差（mean square error, MSE）の関数を作成してください。\n",
    "\n",
    "平均二乗誤差関数は回帰問題全般で使える関数のため、ScratchLinearRegressionクラスのメソッドではなく、別の関数として作成してください。雛形を用意してあります。\n",
    "\n",
    "平均二乗誤差は以下の数式で表されます。"
   ]
  },
  {
   "cell_type": "code",
   "execution_count": 2,
   "metadata": {},
   "outputs": [],
   "source": [
    "def MSE(y_pred, y, m):\n",
    "    \"\"\"\n",
    "    平均二乗誤差の計算\n",
    "\n",
    "    Parameters\n",
    "    ----------\n",
    "    y_pred : 次の形のndarray, shape (n_samples,)\n",
    "      推定した値\n",
    "    y : 次の形のndarray, shape (n_samples,)\n",
    "      正解値\n",
    "\n",
    "    Returns\n",
    "    ----------\n",
    "    mse : numpy.float\n",
    "      平均二乗誤差\n",
    "    \"\"\"\n",
    "    \n",
    "    mse = 1 / ( m) * (np.dot((y_pred - y).T, (y_pred-y)))\n",
    "    \n",
    "    return mse"
   ]
  },
  {
   "cell_type": "markdown",
   "metadata": {},
   "source": [
    "## 【問題5】目的関数\n",
    "以下の数式で表される線形回帰の 目的関数（損失関数） を実装してください。そして、これをself.loss, self.val_lossに記録するようにしてください。\n",
    "\n",
    "目的関数（損失関数） \n",
    "J\n",
    "(\n",
    "θ\n",
    ")\n",
    " は次の式です。"
   ]
  },
  {
   "cell_type": "code",
   "execution_count": 194,
   "metadata": {},
   "outputs": [],
   "source": [
    "class ScratchLinearRegression():\n",
    "    \"\"\"\n",
    "    線形回帰のスクラッチ実装\n",
    "\n",
    "    Parameters\n",
    "    ----------\n",
    "    num_iter : int\n",
    "      イテレーション数\n",
    "    lr : float\n",
    "      学習率\n",
    "    no_bias : bool\n",
    "      バイアス項を入れない場合はTrue\n",
    "    verbose : bool\n",
    "      学習過程を出力する場合はTrue\n",
    "\n",
    "    Attributes\n",
    "    ----------\n",
    "    self.coef_ : 次の形のndarray, shape (n_features,)\n",
    "      パラメータ\n",
    "    self.loss : 次の形のndarray, shape (self.iter,)\n",
    "      学習用データに対する損失の記録\n",
    "    self.val_loss : 次の形のndarray, shape (self.iter,)\n",
    "      検証用データに対する損失の記録\n",
    "\n",
    "    \"\"\"\n",
    "    \n",
    "\n",
    "    def __init__(self, num_iter=100, lr=0.01, bias=False, verbose=False):\n",
    "        # ハイパーパラメータを属性として記録\n",
    "        self.iter = num_iter\n",
    "        self.lr = lr\n",
    "        self.bias = bias\n",
    "        self.verbose = verbose\n",
    "        # 損失を記録する配列を用意\n",
    "        self.loss = np.zeros(self.iter)\n",
    "        self.val_loss = np.zeros(self.iter)\n",
    "    \n",
    "    def _gradient_descent(self, X, y, theta):\n",
    "        \"\"\"\n",
    "        最適なパラメータ(theta)を算出する関数\n",
    "        \n",
    "        Enter\n",
    "        --  --  --  --  --  --\n",
    "        X:ndarray.shape(n_samples, n_features)\n",
    "        y:ndarray.shape(n_samples, )\n",
    "        theta:ndarray.shape(X.shape[1])\n",
    "        ------------------\n",
    "        \n",
    "        Return\n",
    "        -- --  --  --  --  -- \n",
    "        theta:ndarray.shape(X.shape[1])\n",
    "        -------------------\n",
    "        \n",
    "        最急降下法を用いてEnterのthetaより、モデルにフィットしたthetaを返す\n",
    "        \n",
    "        \n",
    "        \"\"\"\n",
    "        m = len(X)\n",
    "        \n",
    "                      # (1 x サンプル数)　@ (サンプル数 x 特徴量数)　= (1 x 特徴量数)\n",
    "        gradient = np.dot((self._linear_hypothesis(X, theta) - y), X)\n",
    "        theta_out = theta - self.lr * 1 / m * gradient\n",
    "        \n",
    "        return theta_out\n",
    "    \n",
    "    \n",
    "    def _linear_hypothesis(self, X, theta):\n",
    "        \"\"\"\n",
    "        線形の仮定関数を計算する\n",
    "        Parameters\n",
    "        ----------\n",
    "        X : 次の形のndarray, shape (n_samples, n_features)\n",
    "        学習データ\n",
    "        Returns\n",
    "        -------\n",
    "        次の形のndarray, shape (n_samples, 1)\n",
    "        線形の仮定関数による推定結果\n",
    "        \"\"\"\n",
    "             #(サンプル数 x 特徴量数) @ (特徴量数 x 1) = (サンプル数 x 1)\n",
    "        y_hut = np.dot(X ,  theta)\n",
    "        \n",
    "        return y_hut\n",
    "    \n",
    "    \n",
    "    def MSE_loss(self, y_pred, y, m):\n",
    "        \"\"\"\n",
    "        平均二乗誤差の計算\n",
    "        \n",
    "        Parameters\n",
    "        ----------\n",
    "        y_pred : 次の形のndarray, shape (n_samples,)\n",
    "        推定した値\n",
    "        y : 次の形のndarray, shape (n_samples,)\n",
    "        正解値\n",
    "        \n",
    "        Returns\n",
    "        ----------\n",
    "        mse : numpy.float\n",
    "        平均二乗誤差\n",
    "        \"\"\"\n",
    "        #(1 x サンプル数) @ (サンプル数 x 1) = 値\n",
    "        mse_loss = 1 / ( 2* m) * (np.dot((y_pred - y).T, (y_pred-y)))\n",
    "        \n",
    "        return mse_loss\n",
    "\n",
    "    def fit(self, X, y , X_val=np.array([]),  y_val=np.array([])):\n",
    "        \n",
    "        \"\"\"\n",
    "        線形回帰を学習する。検証用データが入力された場合はそれに対する損失と精度もイテレーションごとに計算する。\n",
    "\n",
    "        Parameters\n",
    "        ----------\n",
    "        X : 次の形のndarray, shape (n_samples, n_features)\n",
    "            学習用データの特徴量\n",
    "        y : 次の形のndarray, shape (n_samples, )\n",
    "            学習用データの正解値\n",
    "        X_val : 次の形のndarray, shape (n_samples, n_features)\n",
    "            検証用データの特徴量\n",
    "        y_val : 次の形のndarray, shape (n_samples, )\n",
    "            検証用データの正解値\n",
    "            \n",
    "            ---------------------\n",
    "            データ量の数値が大きすぎるとエラーが返ってくるので、標準化を推奨\n",
    "        \"\"\"\n",
    "        \n",
    "        if self.bias:\n",
    "            self.theta = np.random.rand(X.shape[1])\n",
    "          \n",
    "        else:\n",
    "            X = np.insert(X, 0, 1, axis=1)  \n",
    "            self.theta = np.random.rand(X.shape[1])\n",
    "            \n",
    "            \n",
    "        m = len(X)\n",
    "        \n",
    "        \n",
    "        for i in range(self.iter):\n",
    "            self.theta = self._gradient_descent(X, y, self.theta)\n",
    "            y_pred = self._linear_hypothesis(X, self.theta)\n",
    "            self.loss[i] = self.MSE_loss(y_pred, y, m)\n",
    "            \n",
    "            \n",
    "            \n",
    "        if X_val.size != 0:\n",
    "            if self.bias:\n",
    "                self.theta_val = np.random.rand(X_val.shape[1])\n",
    "            \n",
    "            else:\n",
    "                X_val = np.insert(X_val, 0, 1, axis=1)  \n",
    "                self.theta_val = np.random.rand(X_val.shape[1])\n",
    "            \n",
    "            m_val = len(X_val)\n",
    "            \n",
    "            for i in range(self.iter):\n",
    "                self.theta_val = self._gradient_descent(X_val, y_val,self.theta_val)\n",
    "                y_pred_val = self._linear_hypothesis(X_val, self.theta_val)\n",
    "                self.val_loss[i] = self.MSE_loss(y_pred_val, y_val, m_val)\n",
    "\n",
    "        if self.verbose:\n",
    "            #verboseをTrueにした際は学習過程を出力\n",
    "            \n",
    "            print(\"train data:\", self.loss)\n",
    "            print(\"validation data:\", self.val_loss)\n",
    "\n",
    "\n",
    "    def predict(self, X):\n",
    "        \"\"\"\n",
    "        線形回帰を使い推定する。\n",
    "\n",
    "        Parameters\n",
    "        ----------\n",
    "        X : 次の形のndarray, shape (n_samples, n_features)\n",
    "            サンプル\n",
    "\n",
    "        Returns\n",
    "        -------\n",
    "            次の形のndarray, shape (n_samples, 1)\n",
    "            線形回帰による推定結果\n",
    "        \"\"\"\n",
    "        if self.bias == False:\n",
    "            X = np.insert(X, 0, 1, axis=1)\n",
    "        \n",
    "        result_y = self._linear_hypothesis(X, self.theta)\n",
    "        \n",
    "        return result_y"
   ]
  },
  {
   "cell_type": "markdown",
   "metadata": {},
   "source": [
    "## 【問題6】学習と推定\n",
    "機械学習スクラッチ入門のSprintで用意したHouse Pricesコンペティションのデータに対してスクラッチ実装の学習と推定を行なってください。\n",
    "\n",
    "scikit-learnによる実装と比べ、正しく動いているかを確認してください。"
   ]
  },
  {
   "cell_type": "code",
   "execution_count": 26,
   "metadata": {},
   "outputs": [],
   "source": [
    "data_raw = pd.read_csv(\"/Users/morishuuya/Desktop/dataset/kaggle/HousePrice/train.csv\")"
   ]
  },
  {
   "cell_type": "code",
   "execution_count": 27,
   "metadata": {},
   "outputs": [],
   "source": [
    "data = data_raw.copy(deep=True)"
   ]
  },
  {
   "cell_type": "code",
   "execution_count": 28,
   "metadata": {},
   "outputs": [],
   "source": [
    "Target = data[\"SalePrice\"]\n",
    "X_house = data.loc[:, [\"GrLivArea\", \"YearBuilt\"]]"
   ]
  },
  {
   "cell_type": "code",
   "execution_count": 29,
   "metadata": {},
   "outputs": [],
   "source": [
    "X_train, X_test, y_train,y_test = train_test_split(X_house, Target, test_size=0.25)"
   ]
  },
  {
   "cell_type": "code",
   "execution_count": 30,
   "metadata": {},
   "outputs": [],
   "source": [
    "X_train = X_train.values\n",
    "y_train =y_train.values\n",
    "\n",
    "X_test = X_test.values\n",
    "y_test = y_test.values"
   ]
  },
  {
   "cell_type": "code",
   "execution_count": 31,
   "metadata": {},
   "outputs": [],
   "source": [
    "X_train_std = (X_train - X_train.mean()) / X_train.std()\n",
    "y_train_std =  (y_train - y_train.mean()) / y_train.std()\n",
    "\n",
    "X_test_std = (X_test - X_test.mean()) / X_train.std()\n",
    "y_test_std =  (y_test - y_test.mean()) / y_train.std()"
   ]
  },
  {
   "cell_type": "code",
   "execution_count": 32,
   "metadata": {
    "scrolled": true
   },
   "outputs": [
    {
     "name": "stdout",
     "output_type": "stream",
     "text": [
      "切片: -2.6568505099044604\n",
      "パラメータ: [0.54431233 5.51023956]\n"
     ]
    }
   ],
   "source": [
    "lr = LinearRegression()\n",
    "lr.fit(X_train_std, y_train_std)\n",
    "\n",
    "y_lr_pred = lr.predict(X_test)\n",
    "print(\"切片:\", lr.intercept_)\n",
    "print(\"パラメータ:\", lr.coef_)"
   ]
  },
  {
   "cell_type": "code",
   "execution_count": 185,
   "metadata": {},
   "outputs": [
    {
     "name": "stdout",
     "output_type": "stream",
     "text": [
      "切片: 0.5057264580527281\n",
      "パラメータ: [ 0.56919791 -0.09361187]\n"
     ]
    }
   ],
   "source": [
    "slr  = ScratchLinearRegression(bias=False, num_iter=1000, lr=0.001)\n",
    "slr.fit(X_train_std, y_train_std, X_val=X_test_std,  y_val=y_test_std)\n",
    "\n",
    "y_slr_pred= slr.predict(X_test_std)\n",
    "print(\"切片:\", slr.theta[0])\n",
    "print(\"パラメータ:\", slr.theta[1:])"
   ]
  },
  {
   "cell_type": "code",
   "execution_count": 186,
   "metadata": {
    "scrolled": true
   },
   "outputs": [
    {
     "data": {
      "text/plain": [
       "0.25351982598588946"
      ]
     },
     "execution_count": 186,
     "metadata": {},
     "output_type": "execute_result"
    }
   ],
   "source": [
    "slr.loss[-1]"
   ]
  },
  {
   "cell_type": "markdown",
   "metadata": {},
   "source": [
    "## 【問題7】学習曲線のプロット\n",
    "学習曲線を表示する関数を作成し、実行してください。グラフを見て損失が適切に下がっているかどうか確認してください。\n",
    "\n",
    "線形回帰クラスの雛形ではself.loss, self.val_lossに損失を記録しておくようになっているため、入力にはこれを利用してください。"
   ]
  },
  {
   "cell_type": "code",
   "execution_count": 187,
   "metadata": {
    "scrolled": true
   },
   "outputs": [
    {
     "data": {
      "image/png": "[encoded data removed]",
      "text/plain": [
       "<Figure size 432x288 with 1 Axes>"
      ]
     },
     "metadata": {
      "needs_background": "light"
     },
     "output_type": "display_data"
    }
   ],
   "source": [
    "plt.plot(slr.loss, color=\"blue\", label=\"TrainData\")\n",
    "plt.plot(slr.val_loss, color=\"red\", label=\"TestData\")\n",
    "plt.title(\"history of loss\")\n",
    "plt.xlabel(\"iteration\")\n",
    "plt.ylabel(\"loss\")\n",
    "plt.legend()\n",
    "\n",
    "plt.show()"
   ]
  },
  {
   "cell_type": "markdown",
   "metadata": {},
   "source": [
    "## 【問題8】（アドバンス課題）バイアス項の除去\n",
    "バイアス項 \n",
    "θ\n",
    "0\n",
    " を抜くと学習がどう変化するか検証してください。また、線形回帰モデルにおけるバイアス項の役割の考察・調査を行ってください。"
   ]
  },
  {
   "cell_type": "code",
   "execution_count": 188,
   "metadata": {},
   "outputs": [],
   "source": [
    "slr2  = ScratchLinearRegression(bias=True, num_iter=1000, lr=0.001)"
   ]
  },
  {
   "cell_type": "code",
   "execution_count": 189,
   "metadata": {},
   "outputs": [],
   "source": [
    "slr2.fit(X_train_std, y_train_std, X_val=X_test_std,  y_val=y_test_std)"
   ]
  },
  {
   "cell_type": "code",
   "execution_count": 190,
   "metadata": {},
   "outputs": [],
   "source": [
    "y_slr2_pred= slr2.predict(X_test_std)"
   ]
  },
  {
   "cell_type": "code",
   "execution_count": 191,
   "metadata": {},
   "outputs": [
    {
     "data": {
      "image/png": "[encoded data removed]",
      "text/plain": [
       "<Figure size 432x288 with 1 Axes>"
      ]
     },
     "metadata": {
      "needs_background": "light"
     },
     "output_type": "display_data"
    }
   ],
   "source": [
    "plt.plot(slr2.loss, color=\"blue\", label=\"TrainData\")\n",
    "plt.plot(slr2.val_loss, color=\"red\", label=\"TestData\")\n",
    "plt.title(\"history of loss\")\n",
    "plt.xlabel(\"iteration\")\n",
    "plt.ylabel(\"loss\")\n",
    "plt.legend()\n",
    "\n",
    "plt.show()"
   ]
  },
  {
   "cell_type": "code",
   "execution_count": 192,
   "metadata": {
    "scrolled": true
   },
   "outputs": [
    {
     "data": {
      "text/plain": [
       "0.23221133944879752"
      ]
     },
     "execution_count": 192,
     "metadata": {},
     "output_type": "execute_result"
    }
   ],
   "source": [
    "slr2.loss[-1]"
   ]
  },
  {
   "cell_type": "code",
   "execution_count": 193,
   "metadata": {},
   "outputs": [
    {
     "name": "stdout",
     "output_type": "stream",
     "text": [
      "バイアスありの損失: 0.2535\n",
      "バイアスなしの損失: 0.2322\n"
     ]
    }
   ],
   "source": [
    "print(\"バイアスありの損失:\", slr.loss[-1].round(4))\n",
    "print(\"バイアスなしの損失:\", slr2.loss[-1].round(4))"
   ]
  },
  {
   "cell_type": "markdown",
   "metadata": {},
   "source": [
    "バイアス項を抜くと損失が少し減少した"
   ]
  },
  {
   "cell_type": "code",
   "execution_count": null,
   "metadata": {},
   "outputs": [],
   "source": []
  }
 ],
 "metadata": {
  "kernelspec": {
   "display_name": "Python 3",
   "language": "python",
   "name": "python3"
  },
  "language_info": {
   "codemirror_mode": {
    "name": "ipython",
    "version": 3
   },
   "file_extension": ".py",
   "mimetype": "text/x-python",
   "name": "python",
   "nbconvert_exporter": "python",
   "pygments_lexer": "ipython3",
   "version": "3.7.3"
  }
 },
 "nbformat": 4,
 "nbformat_minor": 2
}
