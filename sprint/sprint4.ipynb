{
 "cells": [
  {
   "cell_type": "markdown",
   "metadata": {},
   "source": [
    "# Sprint 機械学習スクラッチ ロジスティック回帰"
   ]
  },
  {
   "cell_type": "code",
   "execution_count": 1,
   "metadata": {},
   "outputs": [],
   "source": [
    "import numpy as np\n",
    "import pandas as pd\n",
    "import random\n",
    "\n",
    "from sklearn.datasets import load_iris\n",
    "from sklearn.model_selection import train_test_split\n",
    "from sklearn.metrics import confusion_matrix, accuracy_score, recall_score, precision_score, f1_score\n",
    "\n",
    "import matplotlib.pyplot as plt"
   ]
  },
  {
   "cell_type": "markdown",
   "metadata": {},
   "source": [
    "## 【問題1】仮定関数\n",
    "ロジスティック回帰の仮定関数のメソッドをScratchLogisticRegressionクラスに実装してください。\n",
    "\n",
    "ロジスティック回帰の仮定関数は、線形回帰の仮定関数を シグモイド関数 に通したものです。シグモイド関数は以下の式で表されます。"
   ]
  },
  {
   "cell_type": "markdown",
   "metadata": {},
   "source": [
    "## 【問題2】最急降下法\n",
    "最急降下法により学習させる実装を行なってください。以下の式で表されるパラメータの更新式のメソッド_gradient_descentを追加し、fit\n",
    "メソッドから呼び出すようにしてください。"
   ]
  },
  {
   "cell_type": "markdown",
   "metadata": {},
   "source": [
    "## 【問題3】推定\n",
    "推定する仕組みを実装してください。ScratchLogisticRegressionクラスの雛形に含まれるpredictメソッドとpredict_probaメソッドに書き加えてください。\n",
    "\n",
    "仮定関数 \n",
    "h\n",
    "θ\n",
    "(\n",
    "x\n",
    ")\n",
    " の出力がpredict_probaの返り値、さらにその値に閾値を設けて1と0のラベルとしたものがpredictの返り値となります。"
   ]
  },
  {
   "cell_type": "code",
   "execution_count": 19,
   "metadata": {},
   "outputs": [],
   "source": [
    "class ScratchLogisticRegression():\n",
    "    \"\"\"\n",
    "    ロジスティック回帰のスクラッチ実装\n",
    "\n",
    "    Parameters\n",
    "    ----------\n",
    "    num_iter : int\n",
    "      イテレーション数\n",
    "    lr : float\n",
    "      学習率\n",
    "    no_bias : bool\n",
    "      バイアス項を入れない場合はTrue\n",
    "    verbose : bool\n",
    "      学習過程を出力する場合はTrue\n",
    "\n",
    "    Attributes\n",
    "    ----------\n",
    "    self.coef_ : 次の形のndarray, shape (n_features,)\n",
    "      パラメータ\n",
    "    self.loss : 次の形のndarray, shape (self.iter,)\n",
    "      学習用データに対する損失の記録\n",
    "    self.val_loss : 次の形のndarray, shape (self.iter,)\n",
    "      検証用データに対する損失の記録\n",
    "\n",
    "    \"\"\"\n",
    "\n",
    "    def __init__(self, num_iter=30, lr=0.01, bias=False, verbose=False):\n",
    "        # ハイパーパラメータを属性として記録\n",
    "        self.iter = num_iter\n",
    "        self.lr = lr\n",
    "        self.bias = bias\n",
    "        self.verbose = verbose\n",
    "        # 損失を記録する配列を用意\n",
    "        self.loss = np.zeros(self.iter)\n",
    "        self.val_loss = np.zeros(self.iter)\n",
    "        \n",
    "    def _sigmoid(self, X, theta):\n",
    "        h1 = 1 / (1 + np.exp(-(X@theta)))#(sample_num * 1) = (sample_num *  feature_num) @ (feature_num * 1) \n",
    "        return h1  #(sample_num * 1)\n",
    "    \n",
    "        \n",
    "    def _gradientdescent(self, X, y,m,theta):\n",
    "        norm_theta = theta.copy()\n",
    "        norm_theta[0] = 0\n",
    "        \n",
    "        error = (self._sigmoid(X, theta) - y)# (nsample,1)=(nsample,1) -(nsample,1)\n",
    "        errorX = (error@X) / m  # (1,nfeature)=(1,nsample)@(nsample,nfeature)\n",
    "        norm = (self.lamda / m) * norm_theta#(1, n feature)\n",
    "        gradient = errorX + norm#(1,nfeature)=(1,nfeature)+(1,nfeature)\n",
    "        \n",
    "        theta_out = theta - self.lr * gradient#(1,nfeature)=(1,nfeature) - (1,nfeature)\n",
    "        \n",
    "        return theta_out\n",
    "    \n",
    "    def _cost(self, X, y, m, theta):\n",
    "        step1 = self._sigmoid(X, theta)\n",
    "        step2 = np.log(step1)\n",
    "        step3 = -y * step2\n",
    "        \n",
    "        step4 = 1 - step1\n",
    "        step5 = np.log(step4)\n",
    "        step6 = (1-y) * step5\n",
    "        \n",
    "        step7 = step3 - step6\n",
    "        step8 = np.sum(step7)\n",
    "        step9 = 1/m * step8\n",
    "        \n",
    "        step10 = self.theta ** 2\n",
    "        step11 = np.sum(step10)\n",
    "        step12 = self.lamda / (2*m)\n",
    "        step13 = step12 * step11\n",
    "        \n",
    "        step14 = step9 + step13\n",
    "        \n",
    "        return step14\n",
    "        \n",
    "\n",
    "    def fit(self, X, y, lamda=1, X_val=np.array([]), y_val=np.array([])):\n",
    "        \"\"\"\n",
    "        ロジスティック回帰を学習する。検証用データが入力された場合はそれに対する損失と精度もイテレーションごとに計算する。\n",
    "\n",
    "        Parameters\n",
    "        ----------\n",
    "        X : 次の形のndarray, shape (n_samples, n_features)\n",
    "            学習用データの特徴量\n",
    "        y : 次の形のndarray, shape (n_samples, )\n",
    "            学習用データの正解値\n",
    "        X_val : 次の形のndarray, shape (n_samples, n_features)\n",
    "            検証用データの特徴量\n",
    "        y_val : 次の形のndarray, shape (n_samples, )\n",
    "            検証用データの正解値\n",
    "        \"\"\"\n",
    "        self.lamda = lamda\n",
    "        m = len(X)\n",
    "        \n",
    "        if self.bias:\n",
    "            self.theta = np.random.rand(X.shape[1]) \n",
    "        else:\n",
    "            X = np.insert(X, 0, 1, axis=1)  \n",
    "            self.theta = np.random.rand(X.shape[1])\n",
    "         \n",
    "        \n",
    "        for i in range(self.iter):\n",
    "            self.theta = self._gradientdescent(X, y, m, self.theta)\n",
    "            self.loss[i] = self._cost(X, y, m, self.theta)\n",
    "            \n",
    "            \n",
    "        if X_val.size != 0:\n",
    "            if self.bias:\n",
    "                self.theta_val = np.random.rand(X_val.shape[1])\n",
    "            \n",
    "            else:\n",
    "                X_val = np.insert(X_val, 0, 1, axis=1)  \n",
    "                self.theta_val = np.random.rand(X_val.shape[1]) \n",
    "            \n",
    "            m_val = len(X_val)\n",
    "            \n",
    "            for i in range(self.iter):\n",
    "                self.theta_val = self._gradientdescent(X_val, y_val, m_val, self.theta_val)\n",
    "                self.val_loss[i] = self._cost(X_val, y_val, m_val, self.theta_val)\n",
    "            \n",
    "        \n",
    "\n",
    "        if self.verbose:\n",
    "            #verboseをTrueにした際は学習過程を出力\n",
    "            print(\"loss:\", self.loss)\n",
    "            print(\"val_loss:\", self.val_loss)\n",
    "      \n",
    "\n",
    "\n",
    "    def predict(self, X):\n",
    "        \"\"\"\n",
    "        ロジスティック回帰を使いラベルを推定する。\n",
    "\n",
    "        Parameters\n",
    "        ----------\n",
    "        X : 次の形のndarray, shape (n_samples, n_features)\n",
    "            サンプル\n",
    "\n",
    "        Returns\n",
    "        -------\n",
    "            次の形のndarray, shape (n_samples, 1)\n",
    "            ロジスティック回帰による推定結果\n",
    "        \"\"\"\n",
    "        \n",
    "        if self.bias == False:\n",
    "            \n",
    "            X = np.insert(X, 0, 1, axis=1)\n",
    "            \n",
    "        pred_proba = self._sigmoid(X, self.theta)\n",
    "        result = []\n",
    "        \n",
    "        for i in pred_proba:\n",
    "            if i > 0.5:\n",
    "                result.append(1)\n",
    "            else:\n",
    "                result.append(0)\n",
    "                \n",
    "        return result\n",
    "        \n",
    "\n",
    "        \n",
    "        \n",
    "\n",
    "    def predict_proba(self, X):\n",
    "        \"\"\"\n",
    "        ロジスティック回帰を使い確率を推定する。\n",
    "\n",
    "        Parameters\n",
    "        ----------\n",
    "        X : 次の形のndarray, shape (n_samples, n_features)\n",
    "            サンプル\n",
    "\n",
    "        Returns\n",
    "        -------\n",
    "            次の形のndarray, shape (n_samples, 1)\n",
    "            ロジスティック回帰による推定結果\n",
    "        \"\"\"\n",
    "        if self.bias == False:\n",
    "            X = np.insert(X, 0, 1, axis=1)\n",
    "            \n",
    "        pred_proba = self._sigmoid(X, self.theta)\n",
    "        return pred_proba"
   ]
  },
  {
   "cell_type": "code",
   "execution_count": 3,
   "metadata": {},
   "outputs": [],
   "source": [
    "data = load_iris()\n",
    "iris_data = pd.DataFrame(data.data, columns=data.feature_names)\n",
    "iris_data[\"species\"] = data.target\n",
    "iris_data = iris_data[iris_data[\"species\"].isin([\"1\", \"2\"])]\n",
    "X_iris = iris_data.drop(\"species\", axis=1)\n",
    "y_iris = iris_data[\"species\"]\n",
    "X_train, X_test, y_train, y_test = train_test_split(X_iris, y_iris, test_size=0.25)"
   ]
  },
  {
   "cell_type": "code",
   "execution_count": 4,
   "metadata": {},
   "outputs": [],
   "source": [
    "X_train = X_train.values\n",
    "X_test = X_test.values\n",
    "y_train = y_train.values\n",
    "y_test = y_test.values"
   ]
  },
  {
   "cell_type": "code",
   "execution_count": 5,
   "metadata": {},
   "outputs": [],
   "source": [
    "y_train = y_train - 1\n",
    "y_test = y_test -1"
   ]
  },
  {
   "cell_type": "markdown",
   "metadata": {},
   "source": [
    "#### 自作のロジスティック回帰を使って学習"
   ]
  },
  {
   "cell_type": "code",
   "execution_count": 8,
   "metadata": {},
   "outputs": [],
   "source": [
    "slr = ScratchLogisticRegression(num_iter=3000, lr=0.01)"
   ]
  },
  {
   "cell_type": "code",
   "execution_count": 9,
   "metadata": {},
   "outputs": [],
   "source": [
    "slr.fit(X_train, y_train, X_val = X_test, y_val=y_test)"
   ]
  },
  {
   "cell_type": "code",
   "execution_count": 10,
   "metadata": {},
   "outputs": [],
   "source": [
    "slr_predict = slr.predict(X_test)"
   ]
  },
  {
   "cell_type": "code",
   "execution_count": 11,
   "metadata": {},
   "outputs": [
    {
     "name": "stdout",
     "output_type": "stream",
     "text": [
      "accuracy: 0.92\n",
      "recall: 0.875\n",
      "precision: 1.0\n",
      "F1: 0.9333333333333333\n",
      "matrix:\n",
      " [[ 9  0]\n",
      " [ 2 14]]\n"
     ]
    }
   ],
   "source": [
    "print(\"accuracy:\", accuracy_score(slr_predict, y_test))\n",
    "print(\"recall:\", recall_score(slr_predict, y_test))\n",
    "print(\"precision:\", precision_score(slr_predict, y_test))\n",
    "print(\"F1:\", f1_score(slr_predict, y_test))\n",
    "print(\"matrix:\\n\", confusion_matrix(slr_predict, y_test))"
   ]
  },
  {
   "cell_type": "markdown",
   "metadata": {},
   "source": [
    "## 【問題7】学習曲線のプロット\n",
    "学習曲線を見て損失が適切に下がっているかどうか確認してください。"
   ]
  },
  {
   "cell_type": "code",
   "execution_count": 12,
   "metadata": {},
   "outputs": [
    {
     "data": {
      "image/png": "[encoded data removed]",
      "text/plain": [
       "<Figure size 432x288 with 1 Axes>"
      ]
     },
     "metadata": {
      "needs_background": "light"
     },
     "output_type": "display_data"
    }
   ],
   "source": [
    "plt.plot(slr.loss, color=\"blue\", label=\"TrainData\")\n",
    "plt.plot(slr.val_loss, color=\"red\", label=\"TestData\")\n",
    "plt.title(\"history of loss\")\n",
    "plt.xlabel(\"iteration\")\n",
    "plt.ylabel(\"loss\")\n",
    "plt.legend()\n",
    "\n",
    "plt.show()"
   ]
  },
  {
   "cell_type": "markdown",
   "metadata": {},
   "source": [
    "## 【問題8】決定領域の可視化\n",
    "決定領域を可視化してください。"
   ]
  },
  {
   "cell_type": "code",
   "execution_count": 13,
   "metadata": {},
   "outputs": [],
   "source": [
    "iris_virgicolor = iris_data[iris_data[\"species\"] == 1]\n",
    "iris_virginica = iris_data[iris_data[\"species\"] == 2]"
   ]
  },
  {
   "cell_type": "code",
   "execution_count": 14,
   "metadata": {},
   "outputs": [],
   "source": [
    "X_train_plot = X_train[:, [0, 2]]\n",
    "X_test_plot = X_test[:,[0, 2]]"
   ]
  },
  {
   "cell_type": "code",
   "execution_count": 15,
   "metadata": {},
   "outputs": [],
   "source": [
    "slr_plot = ScratchLogisticRegression(num_iter=3000, lr=0.01)"
   ]
  },
  {
   "cell_type": "code",
   "execution_count": 16,
   "metadata": {},
   "outputs": [],
   "source": [
    "slr_plot.fit(X_train_plot, y_train)"
   ]
  },
  {
   "cell_type": "code",
   "execution_count": 17,
   "metadata": {},
   "outputs": [],
   "source": [
    "xrange = np.arange(4, 9, 0.1)\n",
    "by = -(slr_plot.theta[0] + slr_plot.theta[1] * xrange) / slr_plot.theta[2]"
   ]
  },
  {
   "cell_type": "code",
   "execution_count": 18,
   "metadata": {},
   "outputs": [
    {
     "data": {
      "image/png": "[encoded data removed]",
      "text/plain": [
       "<Figure size 432x288 with 1 Axes>"
      ]
     },
     "metadata": {
      "needs_background": "light"
     },
     "output_type": "display_data"
    }
   ],
   "source": [
    "plt.scatter(iris_virgicolor[\"sepal length (cm)\"], iris_virgicolor[\"petal length (cm)\"], c=\"red\", label=\"virgicolor\")\n",
    "plt.scatter(iris_virginica[\"sepal length (cm)\"], iris_virginica[\"petal length (cm)\"], c=\"blue\", label=\"verginica\")\n",
    "plt.plot(xrange, by)\n",
    "plt.xlabel(\"petal length (cm)\")\n",
    "plt.ylabel(\"petal width (cm)\")\n",
    "plt.title(\"iris character\")\n",
    "plt.legend()\n",
    "plt.show()"
   ]
  },
  {
   "cell_type": "code",
   "execution_count": null,
   "metadata": {},
   "outputs": [],
   "source": []
  }
 ],
 "metadata": {
  "kernelspec": {
   "display_name": "Python 3",
   "language": "python",
   "name": "python3"
  },
  "language_info": {
   "codemirror_mode": {
    "name": "ipython",
    "version": 3
   },
   "file_extension": ".py",
   "mimetype": "text/x-python",
   "name": "python",
   "nbconvert_exporter": "python",
   "pygments_lexer": "ipython3",
   "version": "3.7.3"
  }
 },
 "nbformat": 4,
 "nbformat_minor": 2
}
