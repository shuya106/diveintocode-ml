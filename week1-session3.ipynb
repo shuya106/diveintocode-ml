{
 "cells": [
  {
   "cell_type": "markdown",
   "metadata": {},
   "source": [
    "# Week1授業課題3 栗まんじゅう問題"
   ]
  },
  {
   "cell_type": "code",
   "execution_count": 1,
   "metadata": {},
   "outputs": [],
   "source": [
    "import matplotlib.pyplot as plt\n",
    "%matplotlib inline\n",
    "import math "
   ]
  },
  {
   "cell_type": "markdown",
   "metadata": {},
   "source": [
    "## 【問題】栗まんじゅうが太陽系を覆う日\n",
    "1個の栗まんじゅうにバイバインを振りかけた場合、太陽系が栗まんじゅうで覆われるのは何分後でしょうか。これを計算するプログラムを作成してください。\n",
    "\n",
    "栗まんじゅうや太陽系の体積を調査した上で仮定して計算してください。栗まんじゅうの隙間や重力などは考えず、問題を単純化して構いません。\n",
    "\n",
    "ボールにバイバインを振りかけた時、東京ドームが一杯になる時間など他の状況にも適用できるような汎用的なプログラムを作成してください。また、グラフを表示するなど分かりやすいノートブックを作成してください。"
   ]
  },
  {
   "cell_type": "code",
   "execution_count": 2,
   "metadata": {},
   "outputs": [],
   "source": [
    "#球体の体積を求める関数\n",
    "def sphere_volume(radius):\n",
    "    result = 4 / 3 * math.pi * (radius) ** 3\n",
    "    return result"
   ]
  },
  {
   "cell_type": "code",
   "execution_count": 3,
   "metadata": {},
   "outputs": [],
   "source": [
    "def cover_space(volume, space, step_time):\n",
    "    \"\"\"球体の物体が球体の空間を覆う時間を算出する関数\n",
    "    引数\n",
    "    　　volume:      空間を覆う物体の体積　    単位：m3\n",
    "        space:       空間の体積　　　　　　 　 単位：m3\n",
    "        step_time:   volumeが倍になる時間　    単位：分\n",
    "    \"\"\"\n",
    "    total_list = []\n",
    "    minutes = 0\n",
    "    while volume < space:\n",
    "        volume *= 2\n",
    "        minutes += step_time\n",
    "        total_list.append(volume)\n",
    "    return minutes, total_list"
   ]
  },
  {
   "cell_type": "code",
   "execution_count": 12,
   "metadata": {},
   "outputs": [
    {
     "name": "stdout",
     "output_type": "stream",
     "text": [
      "栗饅頭の体積:0.0005235987755982989\n"
     ]
    }
   ],
   "source": [
    "#栗饅頭の体積               半径5cmの饅頭を想定\n",
    "manju_radius = 0.05  #単位をメートルとした\n",
    "MANJU_volume = sphere_volume(manju_radius)\n",
    "print(\"栗饅頭の体積:{}\".format(MANJU_volume))"
   ]
  },
  {
   "cell_type": "code",
   "execution_count": 5,
   "metadata": {
    "scrolled": true
   },
   "outputs": [
    {
     "name": "stdout",
     "output_type": "stream",
     "text": [
      "太陽系の体積:3.812590971970916e+38\n"
     ]
    }
   ],
   "source": [
    "#太陽系の体積を計算\n",
    "space_radius = 4498252900 * 1000 #単位はメートル\n",
    "SPACE_volume = sphere_volume(space_radius)\n",
    "print(\"太陽系の体積:{}\".format(SPACE_volume))"
   ]
  },
  {
   "cell_type": "code",
   "execution_count": 10,
   "metadata": {},
   "outputs": [],
   "source": [
    "\"\"\"課題であるバイバイン問題を解く\n",
    "栗饅頭の半径を5cmと仮定し、体積を算出\n",
    "太陽系の半径を地球から冥王星までの距離である4498252900kmと仮定し、体積を算出\n",
    "太陽系にある惑星の体積を無視する、また栗饅頭同士にできる隙間も無視することとする\n",
    "\"\"\"\n",
    "baibai_step_time = 5\n",
    "\n",
    "baibain_time = cover_space(MANJU_volume, SPACE_volume, baibai_step_time)[0]\n",
    "baibain_count = len(cover_space(MANJU_volume, SPACE_volume, baibai_step_time)[1])\n",
    "baibain_number = (cover_space(MANJU_volume, SPACE_volume, baibai_step_time)[1][-1] / MANJU_volume)\n",
    "baibain_list = cover_space(MANJU_volume, SPACE_volume, baibai_step_time)[1]"
   ]
  },
  {
   "cell_type": "code",
   "execution_count": 14,
   "metadata": {},
   "outputs": [
    {
     "name": "stdout",
     "output_type": "stream",
     "text": [
      "太陽系が栗まんじゅうで覆われるのは700分後\n"
     ]
    },
    {
     "data": {
      "image/png": "[encoded data removed]",
      "text/plain": [
       "<Figure size 432x288 with 1 Axes>"
      ]
     },
     "metadata": {
      "needs_background": "light"
     },
     "output_type": "display_data"
    }
   ],
   "source": [
    "print(\"太陽系が栗まんじゅうで覆われるのは{}分後\".format(baibain_time))\n",
    "\n",
    "plt.plot(baibain_list)\n",
    "plt.xlabel(\"count\")\n",
    "plt.ylabel(\"volume\")\n",
    "plt.title(\"manju volume\")\n",
    "plt.show()"
   ]
  },
  {
   "cell_type": "code",
   "execution_count": null,
   "metadata": {},
   "outputs": [],
   "source": []
  }
 ],
 "metadata": {
  "kernelspec": {
   "display_name": "Python 3",
   "language": "python",
   "name": "python3"
  },
  "language_info": {
   "codemirror_mode": {
    "name": "ipython",
    "version": 3
   },
   "file_extension": ".py",
   "mimetype": "text/x-python",
   "name": "python",
   "nbconvert_exporter": "python",
   "pygments_lexer": "ipython3",
   "version": "3.7.3"
  }
 },
 "nbformat": 4,
 "nbformat_minor": 2
}
